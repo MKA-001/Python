{
 "cells": [
  {
   "cell_type": "code",
   "execution_count": 1,
   "id": "5b4ece70",
   "metadata": {},
   "outputs": [],
   "source": [
    "data='hello world'"
   ]
  },
  {
   "cell_type": "code",
   "execution_count": 2,
   "id": "f240bdff",
   "metadata": {},
   "outputs": [
    {
     "data": {
      "text/plain": [
       "'hello world'"
      ]
     },
     "execution_count": 2,
     "metadata": {},
     "output_type": "execute_result"
    }
   ],
   "source": [
    "data"
   ]
  },
  {
   "cell_type": "code",
   "execution_count": 4,
   "id": "80d470bd",
   "metadata": {},
   "outputs": [
    {
     "data": {
      "text/plain": [
       "str"
      ]
     },
     "execution_count": 4,
     "metadata": {},
     "output_type": "execute_result"
    }
   ],
   "source": [
    "type(data)"
   ]
  },
  {
   "cell_type": "code",
   "execution_count": 5,
   "id": "24fe55db",
   "metadata": {},
   "outputs": [
    {
     "data": {
      "text/plain": [
       "1784167170992"
      ]
     },
     "execution_count": 5,
     "metadata": {},
     "output_type": "execute_result"
    }
   ],
   "source": [
    "id(data)"
   ]
  },
  {
   "cell_type": "code",
   "execution_count": 7,
   "id": "440f4806",
   "metadata": {},
   "outputs": [],
   "source": [
    "x=100"
   ]
  },
  {
   "cell_type": "code",
   "execution_count": 9,
   "id": "fbaf4847",
   "metadata": {},
   "outputs": [
    {
     "data": {
      "text/plain": [
       "28"
      ]
     },
     "execution_count": 9,
     "metadata": {},
     "output_type": "execute_result"
    }
   ],
   "source": [
    "import sys\n",
    "sys.getsizeof(x)"
   ]
  },
  {
   "cell_type": "code",
   "execution_count": 10,
   "id": "eaa5fbdf",
   "metadata": {},
   "outputs": [
    {
     "data": {
      "text/plain": [
       "60"
      ]
     },
     "execution_count": 10,
     "metadata": {},
     "output_type": "execute_result"
    }
   ],
   "source": [
    "import sys\n",
    "sys.getsizeof(data)"
   ]
  },
  {
   "cell_type": "code",
   "execution_count": 11,
   "id": "fb285b6a",
   "metadata": {},
   "outputs": [
    {
     "name": "stdout",
     "output_type": "stream",
     "text": [
      "lec3 string\n"
     ]
    }
   ],
   "source": [
    "data=input()"
   ]
  },
  {
   "cell_type": "code",
   "execution_count": 12,
   "id": "41ba21e2",
   "metadata": {},
   "outputs": [
    {
     "name": "stdout",
     "output_type": "stream",
     "text": [
      "200\n",
      "300\n"
     ]
    }
   ],
   "source": [
    "p=input()\n",
    "q=input()"
   ]
  },
  {
   "cell_type": "code",
   "execution_count": 13,
   "id": "24398598",
   "metadata": {},
   "outputs": [
    {
     "name": "stdout",
     "output_type": "stream",
     "text": [
      "200300\n"
     ]
    }
   ],
   "source": [
    "print(p+q)"
   ]
  },
  {
   "cell_type": "code",
   "execution_count": 14,
   "id": "0f798d8a",
   "metadata": {},
   "outputs": [
    {
     "name": "stdout",
     "output_type": "stream",
     "text": [
      "600\n"
     ]
    }
   ],
   "source": [
    "x=200\n",
    "y=x+200\n",
    "print(x+y)"
   ]
  },
  {
   "cell_type": "code",
   "execution_count": 15,
   "id": "931703da",
   "metadata": {},
   "outputs": [
    {
     "name": "stdout",
     "output_type": "stream",
     "text": [
      "200\n",
      "300\n",
      "500\n"
     ]
    }
   ],
   "source": [
    "p=int(input())\n",
    "q=int(input())\n",
    "print(p+q)"
   ]
  },
  {
   "cell_type": "code",
   "execution_count": 16,
   "id": "88ed519f",
   "metadata": {},
   "outputs": [
    {
     "data": {
      "text/plain": [
       "500"
      ]
     },
     "execution_count": 16,
     "metadata": {},
     "output_type": "execute_result"
    }
   ],
   "source": [
    "p+q"
   ]
  },
  {
   "cell_type": "code",
   "execution_count": 17,
   "id": "d5bc88d8",
   "metadata": {},
   "outputs": [
    {
     "data": {
      "text/plain": [
       "0.6666666666666666"
      ]
     },
     "execution_count": 17,
     "metadata": {},
     "output_type": "execute_result"
    }
   ],
   "source": [
    "p/q"
   ]
  },
  {
   "cell_type": "code",
   "execution_count": 18,
   "id": "f9ffb03f",
   "metadata": {},
   "outputs": [
    {
     "data": {
      "text/plain": [
       "int"
      ]
     },
     "execution_count": 18,
     "metadata": {},
     "output_type": "execute_result"
    }
   ],
   "source": [
    "type(p)"
   ]
  },
  {
   "cell_type": "code",
   "execution_count": null,
   "id": "5fd751c6",
   "metadata": {},
   "outputs": [],
   "source": []
  },
  {
   "cell_type": "code",
   "execution_count": 21,
   "id": "9cf1af01",
   "metadata": {},
   "outputs": [
    {
     "name": "stdout",
     "output_type": "stream",
     "text": [
      "Enter your 1stt number :500\n",
      "Enter your 2nd number :900\n",
      "1400\n"
     ]
    }
   ],
   "source": [
    "p=int(input(\"Enter your 1stt number :\"))\n",
    "q=int(input('Enter your 2nd number :'))\n",
    "print(p+q)"
   ]
  },
  {
   "cell_type": "code",
   "execution_count": 22,
   "id": "a175204f",
   "metadata": {},
   "outputs": [
    {
     "name": "stdout",
     "output_type": "stream",
     "text": [
      "Enter your 1stt number :100\n",
      "Enter your 2nd number :200.89\n",
      "300.89\n"
     ]
    }
   ],
   "source": [
    "p=float(input(\"Enter your 1stt number :\"))\n",
    "q=float(input('Enter your 2nd number :'))\n",
    "print(p+q)"
   ]
  },
  {
   "cell_type": "code",
   "execution_count": 23,
   "id": "bcfc680a",
   "metadata": {},
   "outputs": [
    {
     "data": {
      "text/plain": [
       "float"
      ]
     },
     "execution_count": 23,
     "metadata": {},
     "output_type": "execute_result"
    }
   ],
   "source": [
    "type(p)"
   ]
  },
  {
   "cell_type": "code",
   "execution_count": 24,
   "id": "8ac4fe56",
   "metadata": {},
   "outputs": [
    {
     "data": {
      "text/plain": [
       "1784167165904"
      ]
     },
     "execution_count": 24,
     "metadata": {},
     "output_type": "execute_result"
    }
   ],
   "source": [
    "id(p)"
   ]
  },
  {
   "cell_type": "code",
   "execution_count": 34,
   "id": "750540fe",
   "metadata": {},
   "outputs": [
    {
     "ename": "TypeError",
     "evalue": "object of type 'float' has no len()",
     "output_type": "error",
     "traceback": [
      "\u001b[1;31m---------------------------------------------------------------------------\u001b[0m",
      "\u001b[1;31mTypeError\u001b[0m                                 Traceback (most recent call last)",
      "\u001b[1;32m~\\AppData\\Local\\Temp\\ipykernel_4000\\195839074.py\u001b[0m in \u001b[0;36m<module>\u001b[1;34m\u001b[0m\n\u001b[1;32m----> 1\u001b[1;33m \u001b[0mlen\u001b[0m\u001b[1;33m(\u001b[0m\u001b[0mp\u001b[0m\u001b[1;33m)\u001b[0m\u001b[1;31m#float has no length\u001b[0m\u001b[1;33m\u001b[0m\u001b[1;33m\u001b[0m\u001b[0m\n\u001b[0m",
      "\u001b[1;31mTypeError\u001b[0m: object of type 'float' has no len()"
     ]
    }
   ],
   "source": [
    "len(p)#float has no length"
   ]
  },
  {
   "cell_type": "code",
   "execution_count": 33,
   "id": "b68fe41e",
   "metadata": {},
   "outputs": [
    {
     "ename": "TypeError",
     "evalue": "object of type 'int' has no len()",
     "output_type": "error",
     "traceback": [
      "\u001b[1;31m---------------------------------------------------------------------------\u001b[0m",
      "\u001b[1;31mTypeError\u001b[0m                                 Traceback (most recent call last)",
      "\u001b[1;32m~\\AppData\\Local\\Temp\\ipykernel_4000\\3655231742.py\u001b[0m in \u001b[0;36m<module>\u001b[1;34m\u001b[0m\n\u001b[1;32m----> 1\u001b[1;33m \u001b[0mlen\u001b[0m\u001b[1;33m(\u001b[0m\u001b[0mx\u001b[0m\u001b[1;33m)\u001b[0m \u001b[1;31m#integer has no length\u001b[0m\u001b[1;33m\u001b[0m\u001b[1;33m\u001b[0m\u001b[0m\n\u001b[0m",
      "\u001b[1;31mTypeError\u001b[0m: object of type 'int' has no len()"
     ]
    }
   ],
   "source": [
    "len(x) #integer has no length"
   ]
  },
  {
   "cell_type": "code",
   "execution_count": 27,
   "id": "8f4843ff",
   "metadata": {},
   "outputs": [
    {
     "data": {
      "text/plain": [
       "24"
      ]
     },
     "execution_count": 27,
     "metadata": {},
     "output_type": "execute_result"
    }
   ],
   "source": [
    "import sys\n",
    "sys.getsizeof(p)"
   ]
  },
  {
   "cell_type": "code",
   "execution_count": 28,
   "id": "a837d876",
   "metadata": {},
   "outputs": [],
   "source": [
    "a=\"String discussion\""
   ]
  },
  {
   "cell_type": "code",
   "execution_count": 29,
   "id": "50d7798e",
   "metadata": {},
   "outputs": [
    {
     "data": {
      "text/plain": [
       "17"
      ]
     },
     "execution_count": 29,
     "metadata": {},
     "output_type": "execute_result"
    }
   ],
   "source": [
    "len(a)"
   ]
  },
  {
   "cell_type": "code",
   "execution_count": 30,
   "id": "c092ce79",
   "metadata": {},
   "outputs": [
    {
     "data": {
      "text/plain": [
       "str"
      ]
     },
     "execution_count": 30,
     "metadata": {},
     "output_type": "execute_result"
    }
   ],
   "source": [
    "type(a)"
   ]
  },
  {
   "cell_type": "code",
   "execution_count": 32,
   "id": "8a992f78",
   "metadata": {},
   "outputs": [
    {
     "data": {
      "text/plain": [
       "1784166749408"
      ]
     },
     "execution_count": 32,
     "metadata": {},
     "output_type": "execute_result"
    }
   ],
   "source": [
    "id(a)#finding id"
   ]
  },
  {
   "cell_type": "code",
   "execution_count": 35,
   "id": "bab3460a",
   "metadata": {},
   "outputs": [],
   "source": [
    "data=\"hello world\""
   ]
  },
  {
   "cell_type": "code",
   "execution_count": 37,
   "id": "d4338ff3",
   "metadata": {},
   "outputs": [
    {
     "data": {
      "text/plain": [
       "10"
      ]
     },
     "execution_count": 37,
     "metadata": {},
     "output_type": "execute_result"
    }
   ],
   "source": [
    "data.find('d')# finding value of characteristics from string"
   ]
  },
  {
   "cell_type": "code",
   "execution_count": 41,
   "id": "466de54c",
   "metadata": {},
   "outputs": [
    {
     "data": {
      "text/plain": [
       "-1"
      ]
     },
     "execution_count": 41,
     "metadata": {},
     "output_type": "execute_result"
    }
   ],
   "source": [
    "data.find('w',9,12)"
   ]
  },
  {
   "cell_type": "code",
   "execution_count": 42,
   "id": "8906ab2a",
   "metadata": {},
   "outputs": [
    {
     "ename": "ValueError",
     "evalue": "substring not found",
     "output_type": "error",
     "traceback": [
      "\u001b[1;31m---------------------------------------------------------------------------\u001b[0m",
      "\u001b[1;31mValueError\u001b[0m                                Traceback (most recent call last)",
      "\u001b[1;32m~\\AppData\\Local\\Temp\\ipykernel_4000\\2145809485.py\u001b[0m in \u001b[0;36m<module>\u001b[1;34m\u001b[0m\n\u001b[1;32m----> 1\u001b[1;33m \u001b[0mdata\u001b[0m\u001b[1;33m.\u001b[0m\u001b[0mindex\u001b[0m\u001b[1;33m(\u001b[0m\u001b[1;34m'w'\u001b[0m\u001b[1;33m,\u001b[0m\u001b[1;36m9\u001b[0m\u001b[1;33m,\u001b[0m\u001b[1;36m12\u001b[0m\u001b[1;33m)\u001b[0m\u001b[1;33m\u001b[0m\u001b[1;33m\u001b[0m\u001b[0m\n\u001b[0m",
      "\u001b[1;31mValueError\u001b[0m: substring not found"
     ]
    }
   ],
   "source": [
    "data.index('w',9,12)"
   ]
  },
  {
   "cell_type": "code",
   "execution_count": 43,
   "id": "c3efadca",
   "metadata": {},
   "outputs": [
    {
     "data": {
      "text/plain": [
       "'HELLO WORLD'"
      ]
     },
     "execution_count": 43,
     "metadata": {},
     "output_type": "execute_result"
    }
   ],
   "source": [
    "data.upper()"
   ]
  },
  {
   "cell_type": "code",
   "execution_count": 47,
   "id": "856c5631",
   "metadata": {},
   "outputs": [],
   "source": [
    "d1=('HELLO WORLD')"
   ]
  },
  {
   "cell_type": "code",
   "execution_count": 48,
   "id": "2486531d",
   "metadata": {},
   "outputs": [
    {
     "data": {
      "text/plain": [
       "'hello world'"
      ]
     },
     "execution_count": 48,
     "metadata": {},
     "output_type": "execute_result"
    }
   ],
   "source": [
    "d1.lower()"
   ]
  },
  {
   "cell_type": "code",
   "execution_count": 49,
   "id": "51b2a8e7",
   "metadata": {},
   "outputs": [
    {
     "data": {
      "text/plain": [
       "'hello world'"
      ]
     },
     "execution_count": 49,
     "metadata": {},
     "output_type": "execute_result"
    }
   ],
   "source": [
    "d1.casefold()"
   ]
  },
  {
   "cell_type": "code",
   "execution_count": 50,
   "id": "e65c3774",
   "metadata": {},
   "outputs": [
    {
     "data": {
      "text/plain": [
       "'HELLO WORLD'"
      ]
     },
     "execution_count": 50,
     "metadata": {},
     "output_type": "execute_result"
    }
   ],
   "source": [
    "d1.upper()"
   ]
  },
  {
   "cell_type": "code",
   "execution_count": 57,
   "id": "9453c4f5",
   "metadata": {},
   "outputs": [
    {
     "data": {
      "text/plain": [
       "'hello world'"
      ]
     },
     "execution_count": 57,
     "metadata": {},
     "output_type": "execute_result"
    }
   ],
   "source": [
    "d1.casefold()#  same as lower"
   ]
  },
  {
   "cell_type": "code",
   "execution_count": 56,
   "id": "b1b94f25",
   "metadata": {},
   "outputs": [],
   "source": [
    "k='my Name IS KHORSHED'# first letter is capital only"
   ]
  },
  {
   "cell_type": "code",
   "execution_count": 55,
   "id": "88bc81f3",
   "metadata": {},
   "outputs": [
    {
     "data": {
      "text/plain": [
       "'My name is khorshed'"
      ]
     },
     "execution_count": 55,
     "metadata": {},
     "output_type": "execute_result"
    }
   ],
   "source": [
    "k.capitalize()"
   ]
  },
  {
   "cell_type": "code",
   "execution_count": 58,
   "id": "e8430b74",
   "metadata": {},
   "outputs": [
    {
     "data": {
      "text/plain": [
       "'MY nAME is khorshed'"
      ]
     },
     "execution_count": 58,
     "metadata": {},
     "output_type": "execute_result"
    }
   ],
   "source": [
    "k.swapcase()# reverse the letter"
   ]
  },
  {
   "cell_type": "code",
   "execution_count": 59,
   "id": "2926816b",
   "metadata": {},
   "outputs": [
    {
     "data": {
      "text/plain": [
       "'My Name Is Khorshed'"
      ]
     },
     "execution_count": 59,
     "metadata": {},
     "output_type": "execute_result"
    }
   ],
   "source": [
    "k.title()#first letter is capital"
   ]
  },
  {
   "cell_type": "code",
   "execution_count": 64,
   "id": "1f1974df",
   "metadata": {},
   "outputs": [
    {
     "data": {
      "text/plain": [
       "b'my Name IS KHORSHED'"
      ]
     },
     "execution_count": 64,
     "metadata": {},
     "output_type": "execute_result"
    }
   ],
   "source": [
    "k.encode()#converting to binary"
   ]
  },
  {
   "cell_type": "code",
   "execution_count": 65,
   "id": "43b8b46f",
   "metadata": {},
   "outputs": [
    {
     "data": {
      "text/plain": [
       "str"
      ]
     },
     "execution_count": 65,
     "metadata": {},
     "output_type": "execute_result"
    }
   ],
   "source": [
    "type(k)"
   ]
  },
  {
   "cell_type": "code",
   "execution_count": 66,
   "id": "8fc12d51",
   "metadata": {},
   "outputs": [
    {
     "data": {
      "text/plain": [
       "bytes"
      ]
     },
     "execution_count": 66,
     "metadata": {},
     "output_type": "execute_result"
    }
   ],
   "source": [
    "type(k.encode())"
   ]
  },
  {
   "cell_type": "code",
   "execution_count": 67,
   "id": "6ee0c456",
   "metadata": {},
   "outputs": [
    {
     "data": {
      "text/plain": [
       "'my Name IS KHORSHED'"
      ]
     },
     "execution_count": 67,
     "metadata": {},
     "output_type": "execute_result"
    }
   ],
   "source": [
    "k"
   ]
  },
  {
   "cell_type": "code",
   "execution_count": 76,
   "id": "757ba4a9",
   "metadata": {},
   "outputs": [
    {
     "data": {
      "text/plain": [
       "['my', 'Name', 'IS', 'KHORSHED']"
      ]
     },
     "execution_count": 76,
     "metadata": {},
     "output_type": "execute_result"
    }
   ],
   "source": [
    "k.split()#list format"
   ]
  },
  {
   "cell_type": "code",
   "execution_count": 75,
   "id": "5cabc4a9",
   "metadata": {},
   "outputs": [
    {
     "data": {
      "text/plain": [
       "'my'"
      ]
     },
     "execution_count": 75,
     "metadata": {},
     "output_type": "execute_result"
    }
   ],
   "source": [
    "k.split()[0]# list properties"
   ]
  },
  {
   "cell_type": "code",
   "execution_count": 70,
   "id": "e93e7a13",
   "metadata": {},
   "outputs": [
    {
     "data": {
      "text/plain": [
       "'IS'"
      ]
     },
     "execution_count": 70,
     "metadata": {},
     "output_type": "execute_result"
    }
   ],
   "source": [
    "k.split()[2]"
   ]
  },
  {
   "cell_type": "code",
   "execution_count": 74,
   "id": "34490077",
   "metadata": {},
   "outputs": [
    {
     "data": {
      "text/plain": [
       "'                                        my Name IS KHORSHED                                         '"
      ]
     },
     "execution_count": 74,
     "metadata": {},
     "output_type": "execute_result"
    }
   ],
   "source": [
    "k.center(100)#careful about spelling'center'"
   ]
  },
  {
   "cell_type": "code",
   "execution_count": 78,
   "id": "291a0b08",
   "metadata": {},
   "outputs": [
    {
     "data": {
      "text/plain": [
       "'my Name IS Alam'"
      ]
     },
     "execution_count": 78,
     "metadata": {},
     "output_type": "execute_result"
    }
   ],
   "source": [
    "k.replace('KHORSHED','Alam')"
   ]
  },
  {
   "cell_type": "code",
   "execution_count": 81,
   "id": "2f5001f8",
   "metadata": {},
   "outputs": [
    {
     "name": "stdout",
     "output_type": "stream",
     "text": [
      "I have 1000 taka\n"
     ]
    }
   ],
   "source": [
    "b=900\n",
    "n=100\n",
    "z=b+n\n",
    "print(\"I have\",z,\"taka\")"
   ]
  },
  {
   "cell_type": "code",
   "execution_count": 87,
   "id": "12d5e706",
   "metadata": {},
   "outputs": [
    {
     "name": "stdout",
     "output_type": "stream",
     "text": [
      "I have 1000 taka\n"
     ]
    }
   ],
   "source": [
    "b=900\n",
    "n=100\n",
    "z=b+n\n",
    "print(\"I have {} taka\".format(z))#careful about '.'"
   ]
  },
  {
   "cell_type": "code",
   "execution_count": null,
   "id": "05d9389c",
   "metadata": {},
   "outputs": [],
   "source": []
  }
 ],
 "metadata": {
  "kernelspec": {
   "display_name": "Python 3 (ipykernel)",
   "language": "python",
   "name": "python3"
  },
  "language_info": {
   "codemirror_mode": {
    "name": "ipython",
    "version": 3
   },
   "file_extension": ".py",
   "mimetype": "text/x-python",
   "name": "python",
   "nbconvert_exporter": "python",
   "pygments_lexer": "ipython3",
   "version": "3.9.13"
  }
 },
 "nbformat": 4,
 "nbformat_minor": 5
}
