{
 "cells": [
  {
   "cell_type": "code",
   "execution_count": 1,
   "id": "29ec26b9-cf8f-42dd-9089-992bae618d4f",
   "metadata": {},
   "outputs": [],
   "source": [
    "import array as ar"
   ]
  },
  {
   "cell_type": "code",
   "execution_count": 3,
   "id": "a19d65bd-391f-4806-9f21-82097abf96dd",
   "metadata": {},
   "outputs": [],
   "source": [
    "ar1 = ar.array('i',[1,3,4,5,6])"
   ]
  },
  {
   "cell_type": "code",
   "execution_count": 4,
   "id": "2fccfe17-ce38-43c1-afa3-9676374f8dfd",
   "metadata": {},
   "outputs": [
    {
     "data": {
      "text/plain": [
       "array('i', [1, 3, 4, 5, 6])"
      ]
     },
     "execution_count": 4,
     "metadata": {},
     "output_type": "execute_result"
    }
   ],
   "source": [
    "ar1"
   ]
  },
  {
   "cell_type": "code",
   "execution_count": 9,
   "id": "7d2f3ea6-ff52-492b-8291-628da08872cc",
   "metadata": {},
   "outputs": [],
   "source": [
    "ar2 = ar.array('f',[1.5,3.0,4.2,5,6.7])"
   ]
  },
  {
   "cell_type": "code",
   "execution_count": 10,
   "id": "ec19d225-1988-4c6f-8674-5baa33ab1aab",
   "metadata": {},
   "outputs": [
    {
     "data": {
      "text/plain": [
       "array('f', [1.5, 3.0, 4.199999809265137, 5.0, 6.699999809265137])"
      ]
     },
     "execution_count": 10,
     "metadata": {},
     "output_type": "execute_result"
    }
   ],
   "source": [
    "ar2"
   ]
  },
  {
   "cell_type": "code",
   "execution_count": 11,
   "id": "57a8326b-2afa-48b9-be33-8ba15715799d",
   "metadata": {},
   "outputs": [
    {
     "data": {
      "text/plain": [
       "1"
      ]
     },
     "execution_count": 11,
     "metadata": {},
     "output_type": "execute_result"
    }
   ],
   "source": [
    "ar1[0]"
   ]
  },
  {
   "cell_type": "code",
   "execution_count": 13,
   "id": "91536e48-be87-4aaa-81be-c7a59210153b",
   "metadata": {},
   "outputs": [],
   "source": [
    "ar1[0] = 10"
   ]
  },
  {
   "cell_type": "code",
   "execution_count": 14,
   "id": "7b46e2a8-e2d6-4249-9abf-c5a0ef032379",
   "metadata": {},
   "outputs": [
    {
     "data": {
      "text/plain": [
       "array('i', [10, 3, 4, 5, 6])"
      ]
     },
     "execution_count": 14,
     "metadata": {},
     "output_type": "execute_result"
    }
   ],
   "source": [
    "ar1"
   ]
  },
  {
   "cell_type": "code",
   "execution_count": 15,
   "id": "d0ff86bb-43f4-4f5b-86c0-36c1dbfcf583",
   "metadata": {},
   "outputs": [
    {
     "data": {
      "text/plain": [
       "array('i', [4, 5])"
      ]
     },
     "execution_count": 15,
     "metadata": {},
     "output_type": "execute_result"
    }
   ],
   "source": [
    "ar1[2:4]"
   ]
  },
  {
   "cell_type": "code",
   "execution_count": 16,
   "id": "ee0d410b-11a0-4531-8fd9-65fd56ea5e1e",
   "metadata": {},
   "outputs": [],
   "source": [
    "ar1.append(18)"
   ]
  },
  {
   "cell_type": "code",
   "execution_count": 17,
   "id": "6fd2e8d1-b797-4784-81a9-9498c1d4445d",
   "metadata": {},
   "outputs": [
    {
     "data": {
      "text/plain": [
       "array('i', [10, 3, 4, 5, 6, 18])"
      ]
     },
     "execution_count": 17,
     "metadata": {},
     "output_type": "execute_result"
    }
   ],
   "source": [
    "ar1"
   ]
  },
  {
   "cell_type": "code",
   "execution_count": 19,
   "id": "b6d3484c-98b3-4d55-a919-76741dd8b044",
   "metadata": {},
   "outputs": [],
   "source": [
    "del ar1[5]"
   ]
  },
  {
   "cell_type": "code",
   "execution_count": 20,
   "id": "d654b75c-865d-4887-b183-84f3472b1fe0",
   "metadata": {},
   "outputs": [
    {
     "data": {
      "text/plain": [
       "array('i', [10, 3, 4, 5, 6])"
      ]
     },
     "execution_count": 20,
     "metadata": {},
     "output_type": "execute_result"
    }
   ],
   "source": [
    "ar1"
   ]
  },
  {
   "cell_type": "code",
   "execution_count": 21,
   "id": "dd6ba6a9-92e6-4f8d-afd3-870a012503f1",
   "metadata": {},
   "outputs": [
    {
     "data": {
      "text/plain": [
       "5"
      ]
     },
     "execution_count": 21,
     "metadata": {},
     "output_type": "execute_result"
    }
   ],
   "source": [
    "len (ar1)"
   ]
  },
  {
   "cell_type": "code",
   "execution_count": 22,
   "id": "1337e88b-d903-44b4-a9c0-a10b621d2c00",
   "metadata": {},
   "outputs": [],
   "source": [
    "ar1.reverse()"
   ]
  },
  {
   "cell_type": "code",
   "execution_count": 23,
   "id": "726aac96-89cf-4c7e-a79c-61fb3dee30d9",
   "metadata": {},
   "outputs": [
    {
     "data": {
      "text/plain": [
       "array('i', [6, 5, 4, 3, 10])"
      ]
     },
     "execution_count": 23,
     "metadata": {},
     "output_type": "execute_result"
    }
   ],
   "source": [
    "ar1"
   ]
  },
  {
   "cell_type": "code",
   "execution_count": 25,
   "id": "06a5b5e3-4a7b-4243-b144-6205d5fc897d",
   "metadata": {},
   "outputs": [
    {
     "ename": "NameError",
     "evalue": "name 'sort' is not defined",
     "output_type": "error",
     "traceback": [
      "\u001b[1;31m---------------------------------------------------------------------------\u001b[0m",
      "\u001b[1;31mNameError\u001b[0m                                 Traceback (most recent call last)",
      "Cell \u001b[1;32mIn[25], line 1\u001b[0m\n\u001b[1;32m----> 1\u001b[0m sort\u001b[38;5;241m.\u001b[39mar1()\n",
      "\u001b[1;31mNameError\u001b[0m: name 'sort' is not defined"
     ]
    }
   ],
   "source": [
    "sort.ar1()"
   ]
  },
  {
   "cell_type": "code",
   "execution_count": 26,
   "id": "7fab3796-7a29-4a00-b23b-872dc3f3963b",
   "metadata": {},
   "outputs": [
    {
     "data": {
      "text/plain": [
       "1"
      ]
     },
     "execution_count": 26,
     "metadata": {},
     "output_type": "execute_result"
    }
   ],
   "source": [
    "ar1.count(10)"
   ]
  },
  {
   "cell_type": "code",
   "execution_count": 27,
   "id": "f501e059-d8a6-4f00-ad57-a2b3ec0f38a6",
   "metadata": {},
   "outputs": [
    {
     "data": {
      "text/plain": [
       "4"
      ]
     },
     "execution_count": 27,
     "metadata": {},
     "output_type": "execute_result"
    }
   ],
   "source": [
    "ar1.index(10)"
   ]
  },
  {
   "cell_type": "code",
   "execution_count": null,
   "id": "199087a9-7a1f-4816-ae8e-a69f0b04b127",
   "metadata": {},
   "outputs": [],
   "source": []
  }
 ],
 "metadata": {
  "kernelspec": {
   "display_name": "Python 3 (ipykernel)",
   "language": "python",
   "name": "python3"
  },
  "language_info": {
   "codemirror_mode": {
    "name": "ipython",
    "version": 3
   },
   "file_extension": ".py",
   "mimetype": "text/x-python",
   "name": "python",
   "nbconvert_exporter": "python",
   "pygments_lexer": "ipython3",
   "version": "3.11.7"
  }
 },
 "nbformat": 4,
 "nbformat_minor": 5
}
