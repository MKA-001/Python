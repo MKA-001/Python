{
 "cells": [
  {
   "cell_type": "code",
   "execution_count": 9,
   "id": "d774934d-1662-4fc7-ab2b-7ad64295d00c",
   "metadata": {
    "jp-MarkdownHeadingCollapsed": true
   },
   "outputs": [
    {
     "name": "stdin",
     "output_type": "stream",
     "text": [
      "Enter the first number: 23\n",
      "Enter the 2nd number: 455\n"
     ]
    },
    {
     "name": "stdout",
     "output_type": "stream",
     "text": [
      "Sum of two numbers is 478\n"
     ]
    }
   ],
   "source": [
    "#lkgfdkslgjl\n",
    "num1 = int(input(\"Enter the first number:\"))\n",
    "num2 = int(input(\"Enter the 2nd number:\"))\n",
    "sum = num1 + num2\n",
    "print(\"Sum of two numbers is\",sum)"
   ]
  },
  {
   "cell_type": "markdown",
   "id": "65b06b17-b96f-4b62-8598-6ec4273f6b12",
   "metadata": {},
   "source": [
    "ttrhy"
   ]
  },
  {
   "cell_type": "code",
   "execution_count": 8,
   "id": "15739b2a-bd8b-427b-ae97-f884badf50bc",
   "metadata": {},
   "outputs": [],
   "source": [
    "#jgsfdjghj"
   ]
  },
  {
   "cell_type": "code",
   "execution_count": null,
   "id": "ef7e3a9f-2906-4914-80f5-46a0fd1ea1c6",
   "metadata": {},
   "outputs": [],
   "source": [
    "#ljkfgknjg"
   ]
  },
  {
   "cell_type": "markdown",
   "id": "0dd056b0-9082-45e8-b861-26680b06fdf4",
   "metadata": {},
   "source": [
    "dsfgfdsh"
   ]
  },
  {
   "cell_type": "code",
   "execution_count": 2,
   "id": "d6dda3e9-099a-4514-81ce-6ae30a5cc5a7",
   "metadata": {},
   "outputs": [
    {
     "name": "stdin",
     "output_type": "stream",
     "text": [
      "Enter the first number: 45\n",
      "Enter the second number 90\n"
     ]
    },
    {
     "name": "stdout",
     "output_type": "stream",
     "text": [
      "Sum of two numbers is: 135\n"
     ]
    }
   ],
   "source": [
    "a = int(input(\"Enter the first number:\"))\n",
    "b = int(input(\"Enter the second number\"))\n",
    "sum = a + b\n",
    "print(\"Sum of two numbers is:\", sum)"
   ]
  },
  {
   "cell_type": "code",
   "execution_count": 3,
   "id": "0c93ead9-0e0b-45ac-995b-59ef3a0af540",
   "metadata": {},
   "outputs": [
    {
     "name": "stdout",
     "output_type": "stream",
     "text": [
      "Sum of two numbers is: 79\n"
     ]
    }
   ],
   "source": [
    "a = 45\n",
    "b = 34\n",
    "sum = a + b\n",
    "print(\"Sum of two numbers is:\", sum)"
   ]
  },
  {
   "cell_type": "code",
   "execution_count": 10,
   "id": "61022d67-b7d1-4009-859a-ea7936c45574",
   "metadata": {},
   "outputs": [
    {
     "name": "stdout",
     "output_type": "stream",
     "text": [
      "Difference of two numbers is: 11\n"
     ]
    }
   ],
   "source": [
    "a = 45\n",
    "b = 34\n",
    "dif = a - b\n",
    "print(\"Difference of two numbers is:\", dif)"
   ]
  },
  {
   "cell_type": "code",
   "execution_count": 6,
   "id": "94dbd58b-fe82-42d6-b36b-79634b6ffad3",
   "metadata": {},
   "outputs": [
    {
     "name": "stdout",
     "output_type": "stream",
     "text": [
      "Produt of two numbers is: 1530\n"
     ]
    }
   ],
   "source": [
    "a = 45\n",
    "b = 34\n",
    "product = a * b\n",
    "print(\"Produt of two numbers is:\", product)"
   ]
  },
  {
   "cell_type": "code",
   "execution_count": 7,
   "id": "618316ae-1ad2-4da9-8ba3-cd12c63d9b85",
   "metadata": {},
   "outputs": [
    {
     "name": "stdout",
     "output_type": "stream",
     "text": [
      "Exponent is: 16\n"
     ]
    }
   ],
   "source": [
    "x = 4\n",
    "y = 2\n",
    "exp = x**y\n",
    "print(\"Exponent is:\", exp)"
   ]
  },
  {
   "cell_type": "code",
   "execution_count": 12,
   "id": "91f7c353-971a-4cc0-aa99-b1307d432b34",
   "metadata": {},
   "outputs": [
    {
     "name": "stdout",
     "output_type": "stream",
     "text": [
      "Division is: 6.25\n"
     ]
    }
   ],
   "source": [
    "p = 25\n",
    "q = 4\n",
    "div = p/q\n",
    "print(\"Division is:\",div)"
   ]
  },
  {
   "cell_type": "code",
   "execution_count": 13,
   "id": "f9fd8b3a-6a17-4d38-a240-27e3cc280aa9",
   "metadata": {},
   "outputs": [
    {
     "name": "stdout",
     "output_type": "stream",
     "text": [
      "Quotient is: 6\n"
     ]
    }
   ],
   "source": [
    "p = 25\n",
    "q = 4\n",
    "que = p//q\n",
    "print(\"Quotient is:\",que)"
   ]
  },
  {
   "cell_type": "code",
   "execution_count": null,
   "id": "5f89b20f-408e-41b2-b6df-75ed623e7f77",
   "metadata": {},
   "outputs": [],
   "source": []
  }
 ],
 "metadata": {
  "kernelspec": {
   "display_name": "Python 3 (ipykernel)",
   "language": "python",
   "name": "python3"
  },
  "language_info": {
   "codemirror_mode": {
    "name": "ipython",
    "version": 3
   },
   "file_extension": ".py",
   "mimetype": "text/x-python",
   "name": "python",
   "nbconvert_exporter": "python",
   "pygments_lexer": "ipython3",
   "version": "3.11.7"
  }
 },
 "nbformat": 4,
 "nbformat_minor": 5
}
