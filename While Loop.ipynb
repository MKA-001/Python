{
 "cells": [
  {
   "cell_type": "code",
   "execution_count": 10,
   "id": "3000fb18",
   "metadata": {},
   "outputs": [
    {
     "name": "stdout",
     "output_type": "stream",
     "text": [
      "2\n",
      "4\n",
      "6\n",
      "8\n",
      "10\n"
     ]
    }
   ],
   "source": [
    "i=1\n",
    "while i<=10:\n",
    "    if i%2==0:\n",
    "        print(i)\n",
    "    i=i+1"
   ]
  },
  {
   "cell_type": "code",
   "execution_count": 11,
   "id": "485ce1b8",
   "metadata": {},
   "outputs": [
    {
     "name": "stdout",
     "output_type": "stream",
     "text": [
      "1\n",
      "3\n",
      "5\n",
      "7\n",
      "9\n"
     ]
    }
   ],
   "source": [
    "i=1\n",
    "while i<=10:\n",
    "    print(i)\n",
    "    i=i+2"
   ]
  },
  {
   "cell_type": "code",
   "execution_count": 12,
   "id": "70ad2cf6",
   "metadata": {},
   "outputs": [
    {
     "name": "stdout",
     "output_type": "stream",
     "text": [
      "2\n",
      "4\n",
      "6\n",
      "8\n",
      "10\n"
     ]
    }
   ],
   "source": [
    "i=2\n",
    "while i<=10:\n",
    "    print(i)\n",
    "    i=i+2"
   ]
  },
  {
   "cell_type": "code",
   "execution_count": 13,
   "id": "3d51ad3f",
   "metadata": {},
   "outputs": [
    {
     "name": "stdout",
     "output_type": "stream",
     "text": [
      "2\n",
      "4\n",
      "6\n",
      "8\n",
      "10\n"
     ]
    }
   ],
   "source": [
    "i=1\n",
    "while i<=10:\n",
    "    if i%2==0:\n",
    "        print(i)\n",
    "    i=i+1"
   ]
  },
  {
   "cell_type": "code",
   "execution_count": 15,
   "id": "3cc6642b",
   "metadata": {},
   "outputs": [
    {
     "name": "stdout",
     "output_type": "stream",
     "text": [
      "I Love StartBit\n",
      "Thank You StartBit\n",
      "I Love StartBit\n",
      "Thank You StartBit\n",
      "I Love StartBit\n",
      "Thank You StartBit\n",
      "I Love StartBit\n",
      "Thank You StartBit\n",
      "I Love StartBit\n",
      "Thank You StartBit\n",
      "I Love StartBit\n",
      "Thank You StartBit\n",
      "I Love StartBit\n",
      "Thank You StartBit\n",
      "I Love StartBit\n",
      "Thank You StartBit\n",
      "I Love StartBit\n",
      "Thank You StartBit\n",
      "I Love StartBit\n",
      "Thank You StartBit\n"
     ]
    }
   ],
   "source": [
    "StartBit=1\n",
    "while StartBit<=10:\n",
    "    print(\"I Love StartBit\")\n",
    "    print(\"Thank You StartBit\")\n",
    "    StartBit+=1"
   ]
  },
  {
   "cell_type": "code",
   "execution_count": 17,
   "id": "42df34f9",
   "metadata": {},
   "outputs": [
    {
     "name": "stdout",
     "output_type": "stream",
     "text": [
      "1\n",
      "2\n",
      "3\n",
      "4\n",
      "5\n",
      "6\n",
      "7\n",
      "8\n",
      "9\n",
      "10\n"
     ]
    }
   ],
   "source": [
    "a=1\n",
    "while a<=10:\n",
    "    print(a)\n",
    "    a=a+1"
   ]
  },
  {
   "cell_type": "code",
   "execution_count": 18,
   "id": "b0419487",
   "metadata": {},
   "outputs": [
    {
     "name": "stdout",
     "output_type": "stream",
     "text": [
      "1\n",
      "3\n",
      "5\n",
      "7\n",
      "9\n"
     ]
    }
   ],
   "source": [
    "b=1\n",
    "while b<=10:\n",
    "    print(b)\n",
    "    b+=2"
   ]
  },
  {
   "cell_type": "code",
   "execution_count": 19,
   "id": "dbb8eef0",
   "metadata": {},
   "outputs": [
    {
     "name": "stdout",
     "output_type": "stream",
     "text": [
      "0\n",
      "2\n",
      "4\n",
      "6\n",
      "8\n",
      "10\n"
     ]
    }
   ],
   "source": [
    "d=0\n",
    "while d<=10:\n",
    "    print(d)\n",
    "    d=d+2"
   ]
  },
  {
   "cell_type": "code",
   "execution_count": 20,
   "id": "5167ff02",
   "metadata": {},
   "outputs": [
    {
     "name": "stdout",
     "output_type": "stream",
     "text": [
      "2\n",
      "4\n",
      "6\n",
      "8\n",
      "10\n"
     ]
    }
   ],
   "source": [
    "x=2\n",
    "while x<=10:\n",
    "    print(x)\n",
    "    x=x+2"
   ]
  },
  {
   "cell_type": "code",
   "execution_count": 23,
   "id": "694aacb5",
   "metadata": {},
   "outputs": [
    {
     "name": "stdout",
     "output_type": "stream",
     "text": [
      "1\n",
      "3\n",
      "5\n",
      "7\n",
      "9\n"
     ]
    }
   ],
   "source": [
    "y=1\n",
    "while y<=10:\n",
    "    print(y)\n",
    "    y=y+2"
   ]
  },
  {
   "cell_type": "code",
   "execution_count": 7,
   "id": "7cbe4395",
   "metadata": {},
   "outputs": [
    {
     "name": "stdout",
     "output_type": "stream",
     "text": [
      "1\n",
      "2\n",
      "3\n",
      "4\n",
      "5\n",
      "6\n",
      "7\n",
      "8\n",
      "9\n",
      "10\n",
      "11\n"
     ]
    }
   ],
   "source": [
    "# what is happening?\n",
    "p = 0\n",
    "while p <= 10:\n",
    "    p = p + 1\n",
    "    print(p)"
   ]
  },
  {
   "cell_type": "code",
   "execution_count": 8,
   "id": "2f871610",
   "metadata": {},
   "outputs": [
    {
     "data": {
      "text/plain": [
       "'p'"
      ]
     },
     "execution_count": 8,
     "metadata": {},
     "output_type": "execute_result"
    }
   ],
   "source": [
    "data = \"python\"\n",
    "data[0]"
   ]
  },
  {
   "cell_type": "code",
   "execution_count": 10,
   "id": "4bceb0c7",
   "metadata": {},
   "outputs": [
    {
     "name": "stdout",
     "output_type": "stream",
     "text": [
      "p\n",
      "y\n",
      "t\n",
      "h\n",
      "o\n",
      "n\n"
     ]
    }
   ],
   "source": [
    "index = 0\n",
    "while index < len(data):\n",
    "    print(data[index])\n",
    "    index = index + 1"
   ]
  },
  {
   "cell_type": "code",
   "execution_count": 13,
   "id": "b2d68978",
   "metadata": {},
   "outputs": [
    {
     "name": "stdout",
     "output_type": "stream",
     "text": [
      "23\n",
      "33\n",
      "56\n",
      "90\n",
      "78\n"
     ]
    }
   ],
   "source": [
    "n = [23,33, 56, 90, 78]\n",
    "index = 0\n",
    "while index<len(n):\n",
    "    print(n[index])\n",
    "    index = index +1"
   ]
  },
  {
   "cell_type": "code",
   "execution_count": 18,
   "id": "f08abd48",
   "metadata": {},
   "outputs": [
    {
     "name": "stdout",
     "output_type": "stream",
     "text": [
      "23 23\n",
      "33 56\n",
      "56 112\n",
      "90 202\n",
      "78 280\n"
     ]
    }
   ],
   "source": [
    "#sum\n",
    "#complex\n",
    "n = [23,33, 56, 90, 78]\n",
    "total = 0\n",
    "index = 0\n",
    "while index<len(n):\n",
    "    \n",
    "    total = total + n[index]\n",
    "    print(n[index],total)\n",
    "    index +=1"
   ]
  },
  {
   "cell_type": "code",
   "execution_count": 19,
   "id": "e23da00a",
   "metadata": {},
   "outputs": [
    {
     "name": "stdout",
     "output_type": "stream",
     "text": [
      "280\n"
     ]
    }
   ],
   "source": [
    "#sum\n",
    "#complex\n",
    "n = [23,33, 56, 90, 78]\n",
    "total = 0\n",
    "index = 0\n",
    "while index<len(n):\n",
    "    \n",
    "    total = total + n[index]\n",
    "    #print(n[index],total)\n",
    "    index +=1\n",
    "print(total)"
   ]
  },
  {
   "cell_type": "code",
   "execution_count": null,
   "id": "9f6c5f00",
   "metadata": {},
   "outputs": [],
   "source": []
  }
 ],
 "metadata": {
  "kernelspec": {
   "display_name": "Python 3 (ipykernel)",
   "language": "python",
   "name": "python3"
  },
  "language_info": {
   "codemirror_mode": {
    "name": "ipython",
    "version": 3
   },
   "file_extension": ".py",
   "mimetype": "text/x-python",
   "name": "python",
   "nbconvert_exporter": "python",
   "pygments_lexer": "ipython3",
   "version": "3.9.13"
  }
 },
 "nbformat": 4,
 "nbformat_minor": 5
}
