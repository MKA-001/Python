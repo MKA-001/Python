{
 "cells": [
  {
   "cell_type": "code",
   "execution_count": 1,
   "id": "b074082f",
   "metadata": {},
   "outputs": [
    {
     "name": "stdout",
     "output_type": "stream",
     "text": [
      "Hello world\n"
     ]
    }
   ],
   "source": [
    "def f1():\n",
    "    print(\"Hello world\")\n",
    "f1()"
   ]
  },
  {
   "cell_type": "code",
   "execution_count": 5,
   "id": "79511eef",
   "metadata": {},
   "outputs": [
    {
     "name": "stdout",
     "output_type": "stream",
     "text": [
      "Result = 100\n"
     ]
    }
   ],
   "source": [
    "def f2(x):\n",
    "\n",
    "    return 5*x\n",
    "result=f2(20)\n",
    "print(\"Result =\" , result)"
   ]
  },
  {
   "cell_type": "code",
   "execution_count": 6,
   "id": "0ebfc50f",
   "metadata": {},
   "outputs": [
    {
     "name": "stdout",
     "output_type": "stream",
     "text": [
      "Result 1 is  6\n",
      "Result 2 is  30\n",
      "Result 3 is  120\n"
     ]
    }
   ],
   "source": [
    "def f3(x,y):\n",
    "    return x*y\n",
    "result= f3(2,3)\n",
    "print('Result 1 is ', result)\n",
    "\n",
    "result=f3(5,6)\n",
    "print('Result 2 is ', result)\n",
    "\n",
    "result=f3(20,6)\n",
    "print('Result 3 is ', result)"
   ]
  },
  {
   "cell_type": "code",
   "execution_count": null,
   "id": "3783487b",
   "metadata": {},
   "outputs": [],
   "source": []
  },
  {
   "cell_type": "code",
   "execution_count": 7,
   "id": "76a23e11",
   "metadata": {},
   "outputs": [
    {
     "name": "stdout",
     "output_type": "stream",
     "text": [
      "Result 1 is  8\n",
      "Result 2 is  15625\n",
      "Result 3 is  64000000\n"
     ]
    }
   ],
   "source": [
    "def f3(x,y):\n",
    "    return x**y\n",
    "result= f3(2,3)\n",
    "print('Result 1 is ', result)\n",
    "\n",
    "result=f3(5,6)\n",
    "print('Result 2 is ', result)\n",
    "\n",
    "result=f3(20,6)\n",
    "print('Result 3 is ', result)"
   ]
  },
  {
   "cell_type": "code",
   "execution_count": null,
   "id": "1e1a94bb",
   "metadata": {},
   "outputs": [],
   "source": []
  },
  {
   "cell_type": "code",
   "execution_count": 8,
   "id": "aaef8b86",
   "metadata": {},
   "outputs": [
    {
     "name": "stdout",
     "output_type": "stream",
     "text": [
      "Result 1 is  5\n",
      "Result 2 is  11\n",
      "Result 3 is  26\n"
     ]
    }
   ],
   "source": [
    "def f3(x,y):\n",
    "    return x+y\n",
    "result= f3(2,3)\n",
    "print('Result 1 is ', result)\n",
    "\n",
    "result=f3(5,6)\n",
    "print('Result 2 is ', result)\n",
    "\n",
    "result=f3(20,6)\n",
    "print('Result 3 is ', result)"
   ]
  },
  {
   "cell_type": "code",
   "execution_count": null,
   "id": "1b3df823",
   "metadata": {},
   "outputs": [],
   "source": []
  },
  {
   "cell_type": "code",
   "execution_count": 9,
   "id": "61dde181",
   "metadata": {},
   "outputs": [
    {
     "name": "stdout",
     "output_type": "stream",
     "text": [
      "Result 1 is  -1\n",
      "Result 2 is  -1\n",
      "Result 3 is  14\n"
     ]
    }
   ],
   "source": [
    "def f3(x,y):\n",
    "    return x-y\n",
    "result= f3(2,3)\n",
    "print('Result 1 is ', result)\n",
    "\n",
    "result=f3(5,6)\n",
    "print('Result 2 is ', result)\n",
    "\n",
    "result=f3(20,6)\n",
    "print('Result 3 is ', result)"
   ]
  },
  {
   "cell_type": "code",
   "execution_count": null,
   "id": "4872e419",
   "metadata": {},
   "outputs": [],
   "source": []
  },
  {
   "cell_type": "code",
   "execution_count": 11,
   "id": "243c2669",
   "metadata": {},
   "outputs": [
    {
     "name": "stdout",
     "output_type": "stream",
     "text": [
      "Result 1 is  0.6666666666666666\n",
      "Result 2 is  0.8333333333333334\n",
      "Result 3 is  3.3333333333333335\n"
     ]
    }
   ],
   "source": [
    "def f3(x,y):\n",
    "    return x/y\n",
    "result= f3(2,3)\n",
    "print('Result 1 is ', result)\n",
    "\n",
    "result=f3(5,6)\n",
    "print('Result 2 is ', result)\n",
    "\n",
    "result=f3(20,6)\n",
    "print('Result 3 is ', result)"
   ]
  },
  {
   "cell_type": "code",
   "execution_count": null,
   "id": "e87f3c6d",
   "metadata": {},
   "outputs": [],
   "source": []
  },
  {
   "cell_type": "code",
   "execution_count": 14,
   "id": "c74b728d",
   "metadata": {},
   "outputs": [
    {
     "name": "stdout",
     "output_type": "stream",
     "text": [
      "Result 1 is  7\n",
      "Result 2 is  4\n",
      "Result 3 is  3\n"
     ]
    }
   ],
   "source": [
    "def f3(x,y):\n",
    "    return x//y\n",
    "result= f3(22,3)\n",
    "print('Result 1 is ', result)\n",
    "\n",
    "result=f3(25,6)\n",
    "print('Result 2 is ', result)\n",
    "\n",
    "result=f3(20,6)\n",
    "print('Result 3 is ', result)"
   ]
  },
  {
   "cell_type": "code",
   "execution_count": null,
   "id": "994f729b",
   "metadata": {},
   "outputs": [],
   "source": []
  },
  {
   "cell_type": "code",
   "execution_count": 13,
   "id": "8331e021",
   "metadata": {},
   "outputs": [
    {
     "name": "stdout",
     "output_type": "stream",
     "text": [
      "Result 1 is  2\n",
      "Result 2 is  5\n",
      "Result 3 is  2\n"
     ]
    }
   ],
   "source": [
    "def f3(x,y):\n",
    "    return x%y\n",
    "result= f3(2,3)\n",
    "print('Result 1 is ', result)\n",
    "\n",
    "result=f3(5,6)\n",
    "print('Result 2 is ', result)\n",
    "\n",
    "result=f3(20,6)\n",
    "print('Result 3 is ', result)"
   ]
  },
  {
   "cell_type": "code",
   "execution_count": null,
   "id": "4a34ce80",
   "metadata": {},
   "outputs": [],
   "source": []
  }
 ],
 "metadata": {
  "kernelspec": {
   "display_name": "Python 3 (ipykernel)",
   "language": "python",
   "name": "python3"
  },
  "language_info": {
   "codemirror_mode": {
    "name": "ipython",
    "version": 3
   },
   "file_extension": ".py",
   "mimetype": "text/x-python",
   "name": "python",
   "nbconvert_exporter": "python",
   "pygments_lexer": "ipython3",
   "version": "3.9.13"
  }
 },
 "nbformat": 4,
 "nbformat_minor": 5
}
